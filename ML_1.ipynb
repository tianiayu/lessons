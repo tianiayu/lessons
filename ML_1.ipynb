{
  "nbformat": 4,
  "nbformat_minor": 0,
  "metadata": {
    "colab": {
      "provenance": [],
      "authorship_tag": "ABX9TyPulnGjzR8hIlq9dt/UheQN",
      "include_colab_link": true
    },
    "kernelspec": {
      "name": "python3",
      "display_name": "Python 3"
    },
    "language_info": {
      "name": "python"
    }
  },
  "cells": [
    {
      "cell_type": "markdown",
      "metadata": {
        "id": "view-in-github",
        "colab_type": "text"
      },
      "source": [
        "<a href=\"https://colab.research.google.com/github/tianiayu/lessons/blob/main/ML_1.ipynb\" target=\"_parent\"><img src=\"https://colab.research.google.com/assets/colab-badge.svg\" alt=\"Open In Colab\"/></a>"
      ]
    },
    {
      "cell_type": "code",
      "source": [
        "# Mendefinisikan nilai kecepatan\n",
        "kecepatan = 50"
      ],
      "metadata": {
        "id": "chZL8Bob97lL"
      },
      "execution_count": 17,
      "outputs": []
    },
    {
      "cell_type": "code",
      "source": [
        "# Memeriksa nilai kecepatan\n",
        "if kecepatan < 4:\n",
        "    aktivitas = \"BERJALAN\"\n",
        "\n",
        "elif kecepatan<12:\n",
        "  aktivitas = \"BERLARI\"\n",
        "\n",
        "else:\n",
        "  aktivitas = \"BERSEPEDA\"\n",
        "\n",
        "# Menampilkan aktivitas\n",
        "print(\"Aktivitas saat ini:\", aktivitas)"
      ],
      "metadata": {
        "colab": {
          "base_uri": "https://localhost:8080/"
        },
        "id": "Wen_SgTO-ThH",
        "outputId": "c5d5154a-ae4a-4eb0-ee29-793a0a727f41"
      },
      "execution_count": 18,
      "outputs": [
        {
          "output_type": "stream",
          "name": "stdout",
          "text": [
            "Aktivitas saat ini: BERSEPEDA\n"
          ]
        }
      ]
    },
    {
      "cell_type": "code",
      "source": [
        "nilai = 75\n",
        "\n",
        "if nilai >= 90:\n",
        "    print(\"Nilai Anda A\")\n",
        "elif nilai >= 80:\n",
        "    print(\"Nilai Anda B\")\n",
        "elif nilai >= 70:\n",
        "    print(\"Nilai Anda C\")\n",
        "elif nilai >= 60:\n",
        "    print(\"Nilai Anda D\")\n",
        "else:\n",
        "    print(\"Nilai Anda E\")\n"
      ],
      "metadata": {
        "colab": {
          "base_uri": "https://localhost:8080/"
        },
        "id": "W-HoWuSQKRXG",
        "outputId": "1786569a-0cc8-4991-9f05-50b981f87ebf"
      },
      "execution_count": 10,
      "outputs": [
        {
          "output_type": "stream",
          "name": "stdout",
          "text": [
            "Nilai Anda C\n"
          ]
        }
      ]
    }
  ]
}